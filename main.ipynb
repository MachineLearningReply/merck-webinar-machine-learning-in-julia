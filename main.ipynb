{
 "cells": [
  {
   "attachments": {},
   "cell_type": "markdown",
   "metadata": {},
   "source": [
    "![header](https://d25m59h0ya0u4t.cloudfront.net/pub/uploadedImages/3179520201006_ML_JuliaContentTT%20with%20language-100.jpg)\n",
    "\n",
    "During this session you'll get to know Julia's powerful core design, the Multiple Dispatch and learn more about Flux.jl in order to do state-of-the-art machine learning with just a few lines of code. \n",
    "\n",
    "What you will learn\n",
    "* How to use Julia and **Multiple Dispatch** as well as **Flux.jl**\n",
    "* learn more on **scientific machine learning**\n",
    "\n",
    "-------"
   ]
  },
  {
   "cell_type": "markdown",
   "metadata": {},
   "source": [
    "# PART I - MULTIPLE DISPATCH\n",
    "\n",
    "This section was adapted from a famous [julia talk about reusability](https://www.youtube.com/watch?reload=9&reload=9&v=kc9HwsxE1OY)"
   ]
  },
  {
   "cell_type": "markdown",
   "metadata": {},
   "source": [
    "## Custom Types\n",
    "\n",
    "In julia you can easily define your custom type hierarchy.\n",
    "\n",
    "A notable difference to other type systems is that abstract types in julia do not have any attributes, but only serve to define the hierarchy."
   ]
  },
  {
   "cell_type": "code",
   "execution_count": null,
   "metadata": {},
   "outputs": [],
   "source": [
    "abstract type Pet end\n",
    "struct Dog <: Pet\n",
    "    name::String\n",
    "end\n",
    "# TODO define Cat"
   ]
  },
  {
   "cell_type": "markdown",
   "metadata": {},
   "source": [
    "We can instantiate the struct types by simple call syntax. They come with a default constructor."
   ]
  },
  {
   "cell_type": "code",
   "execution_count": null,
   "metadata": {},
   "outputs": [],
   "source": [
    "fido     = Dog(\"Fido\")\n",
    "rex      = Dog(\"Rex\")\n",
    "# TODO create two cats\n",
    "whiskers = ...\n",
    "spots    = ..."
   ]
  },
  {
   "cell_type": "markdown",
   "metadata": {},
   "source": [
    "## Defining Generic Functions\n",
    "\n",
    "In julia you can define functions assuming whatever other functions you want. All contracts/interfaces are guaranteed by convention/documentation.\n",
    "\n",
    "For instance the following `encounter` assumes that `meets` and `names` are defined for the arguments."
   ]
  },
  {
   "cell_type": "code",
   "execution_count": null,
   "metadata": {},
   "outputs": [],
   "source": [
    "function encounter(a::Pet, b::Pet)\n",
    "    verb = meets(a, b)\n",
    "    println(\"$(name(a)) meets $(name(b)) and $verb\")\n",
    "end"
   ]
  },
  {
   "cell_type": "markdown",
   "metadata": {},
   "source": [
    "You don't have to specify types. If so, the type defaults to `Any`, which includes everything."
   ]
  },
  {
   "cell_type": "code",
   "execution_count": null,
   "metadata": {},
   "outputs": [],
   "source": [
    "name(a) = a.name  # short one-line syntax for defining functions "
   ]
  },
  {
   "cell_type": "markdown",
   "metadata": {},
   "source": [
    "## Multiple Dispatch\n",
    "\n",
    "In Julia you can specialize your functions for any combination of types. Julia will always choose the most specific implementation available. This is called **Multiple Dispatch**."
   ]
  },
  {
   "cell_type": "code",
   "execution_count": null,
   "metadata": {},
   "outputs": [],
   "source": [
    "meets(a::Pet, b::Pet) = \"does nothing\"\n",
    "\n",
    "encounter(fido, rex)"
   ]
  },
  {
   "cell_type": "code",
   "execution_count": null,
   "metadata": {},
   "outputs": [],
   "source": [
    "# TODO\n",
    "# define your own implementations of meets between Cats, Dogs and Pets\n",
    "\n",
    "meets(a::Pet, b::Pet) = ...\n",
    "..."
   ]
  },
  {
   "cell_type": "code",
   "execution_count": null,
   "metadata": {},
   "outputs": [],
   "source": [
    "encounter(fido, rex)\n",
    "encounter(fido, whiskers)\n",
    "encounter(whiskers, rex)\n",
    "encounter(whiskers, spots)"
   ]
  },
  {
   "cell_type": "markdown",
   "metadata": {},
   "source": [
    "You can always add new types and extend functions. This even holds true for functions defined in other packages."
   ]
  },
  {
   "cell_type": "code",
   "execution_count": null,
   "metadata": {},
   "outputs": [],
   "source": [
    "struct TheDuck <: Pet end\n",
    "name(::TheDuck) = \"The duck\"\n",
    "\n",
    "theduck = TheDuck()"
   ]
  },
  {
   "cell_type": "code",
   "execution_count": null,
   "metadata": {},
   "outputs": [],
   "source": [
    "encounter(theduck, rex)"
   ]
  },
  {
   "cell_type": "markdown",
   "metadata": {},
   "source": [
    "## Fully Flexible Arrays"
   ]
  },
  {
   "cell_type": "code",
   "execution_count": null,
   "metadata": {},
   "outputs": [],
   "source": [
    "pets = [fido, rex, whiskers, spots, theduck]"
   ]
  },
  {
   "cell_type": "code",
   "execution_count": null,
   "metadata": {},
   "outputs": [],
   "source": [
    "name.(pets)  # use dot . to apply an arbitrary function elementwise"
   ]
  },
  {
   "cell_type": "code",
   "execution_count": null,
   "metadata": {},
   "outputs": [],
   "source": [
    "[meets(a, b) for a in pets, b in pets]  # multi dimensional for-comprehension"
   ]
  },
  {
   "cell_type": "markdown",
   "metadata": {},
   "source": [
    "-------"
   ]
  },
  {
   "cell_type": "markdown",
   "metadata": {},
   "source": [
    "# PART II - SCIENTIFIC MACHINE LEARNING with Flux.jl"
   ]
  },
  {
   "cell_type": "code",
   "execution_count": null,
   "metadata": {},
   "outputs": [],
   "source": [
    "using Flux  # takes about a minute when run the first time"
   ]
  },
  {
   "cell_type": "markdown",
   "metadata": {},
   "source": [
    "Let me cite Flux.ml:\n",
    "\n",
    "\"\"\"\n",
    "\n",
    "**Flux: The Julia Machine Learning Library**\n",
    "\n",
    "Flux is a library for machine learning. It comes \"batteries-included\" with many useful tools built in, but also lets you use the full power of the Julia language where you need it. We follow a few key principles:\n",
    "\n",
    "* **Doing the obvious thing.** Flux has relatively few explicit APIs for features like regularisation or embeddings. Instead, writing down the mathematical form will work – and be fast.\n",
    "* **You could have written Flux.** All of it, from LSTMs to GPU kernels, is straightforward Julia code. When in doubt, it’s well worth looking at the source. If you need something different, you can easily roll your own.\n",
    "* **Play nicely with others.** Flux works well with Julia libraries from data frames and images to differential equation solvers, so you can easily build complex data processing pipelines that integrate Flux models.\n",
    "\n",
    "\"\"\""
   ]
  },
  {
   "cell_type": "markdown",
   "metadata": {},
   "source": [
    "## Basics - Taking Gradients"
   ]
  },
  {
   "cell_type": "code",
   "execution_count": null,
   "metadata": {},
   "outputs": [],
   "source": [
    "f(x) = 3x^2 + 2x + 1"
   ]
  },
  {
   "cell_type": "code",
   "execution_count": null,
   "metadata": {},
   "outputs": [],
   "source": [
    "# df/dx = 6x + 2\n",
    "f'(2)  # after `using Flux` you have access to automatic differentiation of arbitrary functions (actually this is given by Zygote.jl which is a subpackage of the Flux eco system)"
   ]
  },
  {
   "cell_type": "code",
   "execution_count": null,
   "metadata": {},
   "outputs": [],
   "source": [
    "df(x) = gradient(f, x)[1]\n",
    "df(2)"
   ]
  },
  {
   "cell_type": "code",
   "execution_count": null,
   "metadata": {},
   "outputs": [],
   "source": [
    "# TODO compute second derivative"
   ]
  },
  {
   "cell_type": "markdown",
   "metadata": {},
   "source": [
    "You may ask how far does this go? Can everything be autodifferentiated? Actually almost everything, including arbitrary controlflows, recursions, loops, and even mutable datastructures. See https://fluxml.ai/Zygote.jl/latest/#Taking-Gradients-1 for details."
   ]
  },
  {
   "cell_type": "markdown",
   "metadata": {},
   "source": [
    "## Controlling a Trebuchet"
   ]
  },
  {
   "cell_type": "markdown",
   "metadata": {},
   "source": [
    "![trebuchet](https://fluxml.ai/assets/2019-03-05-dp-vs-rl/trebuchet-basic.gif)"
   ]
  },
  {
   "cell_type": "markdown",
   "metadata": {},
   "source": [
    "There is Trebuchet, which throws a mass to a target. The mass is to be\n",
    "released at an angle, and at certain velocity so that it lands on the target.\n",
    "The velocity of release is determined by the counterweight of the Trebuchet.\n",
    "Given conditions of environment we are required to predict the angle of\n",
    "release and counterweight.\n",
    "\n",
    "* **Input:**  Wind speed,   Target distance\n",
    "* **Output:** ReleaseAngle, Weight"
   ]
  },
  {
   "cell_type": "markdown",
   "metadata": {},
   "source": [
    "![overview](https://fluxml.ai/assets/2019-03-05-dp-vs-rl/trebuchet-flow.png)"
   ]
  },
  {
   "cell_type": "code",
   "execution_count": null,
   "metadata": {},
   "outputs": [],
   "source": [
    "using Flux\n",
    "import Zygote\n",
    "using Random\n",
    "import Trebuchet\n",
    "using Plots\n",
    "plotlyjs()"
   ]
  },
  {
   "cell_type": "code",
   "execution_count": null,
   "metadata": {},
   "outputs": [],
   "source": [
    "function visualize_trebuchet(;target=100, wind_speed=1.0, release_angle=45, weight=98.09)  # default values from TrebuchetState\n",
    "    # state is going to be mutated by simulate, hence we capsulate it into our own method\n",
    "    release_angle = Trebuchet.deg2rad(release_angle)\n",
    "    state = Trebuchet.TrebuchetState(wind_speed=wind_speed, release_angle=release_angle, weight=weight)\n",
    "    Trebuchet.simulate(state)  # should be named `simulate!(t)`\n",
    "    Trebuchet.visualise(state, target)\n",
    "end \n",
    "\n",
    "function shoot_trebuchet(;wind_speed=1.0, release_angle=45, weight=98.09)\n",
    "    release_angle = Trebuchet.deg2rad(release_angle)\n",
    "    state = Trebuchet.TrebuchetState(;wind_speed=wind_speed, release_angle=release_angle, weight=weight)\n",
    "    weight > 0 || return 0.0\n",
    "    Trebuchet.simulate(state)\n",
    "    Trebuchet.endDist(state)\n",
    "end"
   ]
  },
  {
   "cell_type": "code",
   "execution_count": null,
   "metadata": {},
   "outputs": [],
   "source": [
    "visualize_trebuchet(target=50)"
   ]
  },
  {
   "cell_type": "code",
   "execution_count": null,
   "metadata": {},
   "outputs": [],
   "source": [
    "shoot_trebuchet()"
   ]
  },
  {
   "cell_type": "markdown",
   "metadata": {},
   "source": [
    "## Create a Model"
   ]
  },
  {
   "cell_type": "code",
   "execution_count": null,
   "metadata": {},
   "outputs": [],
   "source": [
    "Random.seed!(0)\n",
    "model = Chain(Dense(2, 16, σ),\n",
    "              Dense(16, 64, σ),\n",
    "              Dense(64, 16, σ),\n",
    "              Dense(16, 2))\n",
    "θ = params(model)"
   ]
  },
  {
   "cell_type": "code",
   "execution_count": null,
   "metadata": {},
   "outputs": [],
   "source": [
    "function aim(wind, target)\n",
    "  angle, weight = model([wind, target])\n",
    "  angle = σ(angle)*90\n",
    "  weight = weight + 200\n",
    "  (release_angle=angle, weight=weight)\n",
    "end"
   ]
  },
  {
   "cell_type": "code",
   "execution_count": null,
   "metadata": {},
   "outputs": [],
   "source": [
    "function visualize_model(;wind_speed=1.0, target=100)\n",
    "    release_angle, weight = aim(wind_speed, target)\n",
    "    visualize_trebuchet(target=target, wind_speed=wind_speed, release_angle=release_angle, weight=weight)\n",
    "end\n",
    "\n",
    "function shoot_model(;wind_speed=1.0, target=100)\n",
    "    release_angle, weight = aim(wind_speed, target)\n",
    "    # shoot_trebuchet uses array mutation internally, which is not yet supported by Zygote ReverseDiff\n",
    "    # however forwarddiff works with everything, including array mutation and try/catch,\n",
    "    # hence we mark this respectively\n",
    "    Zygote.forwarddiff([wind_speed, release_angle, weight]) do (wind_speed, release_angle, weight)\n",
    "        shoot_trebuchet(wind_speed=wind_speed, release_angle=release_angle, weight=weight)\n",
    "    end\n",
    "end"
   ]
  },
  {
   "cell_type": "code",
   "execution_count": null,
   "metadata": {},
   "outputs": [],
   "source": [
    "# TODO execute visualize_model"
   ]
  },
  {
   "cell_type": "code",
   "execution_count": null,
   "metadata": {},
   "outputs": [],
   "source": [
    "# TODO execute shoot_model"
   ]
  },
  {
   "cell_type": "markdown",
   "metadata": {},
   "source": [
    "## Do Syntax - a tiny excurse to special Julia syntax\n",
    "\n",
    "If we have a function which takes another function as the first argument, for instance ..."
   ]
  },
  {
   "cell_type": "code",
   "execution_count": null,
   "metadata": {},
   "outputs": [],
   "source": [
    "apply_function(f, args...) = f(args...)"
   ]
  },
  {
   "cell_type": "markdown",
   "metadata": {},
   "source": [
    "Then we can just pass a function, for instance an adhoc anonymous function ..."
   ]
  },
  {
   "cell_type": "code",
   "execution_count": null,
   "metadata": {},
   "outputs": [],
   "source": [
    "apply_function((a, b) -> a + b, 1, 2)"
   ]
  },
  {
   "cell_type": "markdown",
   "metadata": {},
   "source": [
    "or we can use the equivalent `do` syntax"
   ]
  },
  {
   "cell_type": "code",
   "execution_count": null,
   "metadata": {},
   "outputs": [],
   "source": [
    "apply_function(1, 2) do a, b\n",
    "    a + b\n",
    "end"
   ]
  },
  {
   "cell_type": "markdown",
   "metadata": {},
   "source": [
    "## Train\n",
    "\n",
    "Finally we want to train our model to become better at shooting the trebuchet."
   ]
  },
  {
   "cell_type": "code",
   "execution_count": null,
   "metadata": {},
   "outputs": [],
   "source": [
    "target_min, target_max = 20, 100\t# Maximum target distance\n",
    "wind_speed_mean = 5 # Maximum wind speed\n",
    "\n",
    "# linear interpolation helper\n",
    "lerp(x, lo, hi) = x*(hi-lo)+lo\n",
    "\n",
    "random_target() = (\n",
    "    wind_speed = randn() * wind_speed_mean,\n",
    "    target = lerp(rand(), target_min, target_max)\n",
    ")"
   ]
  },
  {
   "cell_type": "code",
   "execution_count": null,
   "metadata": {},
   "outputs": [],
   "source": [
    "losses = Float64[]\n",
    "iterations = Int[]\n",
    "i = 0"
   ]
  },
  {
   "cell_type": "code",
   "execution_count": null,
   "metadata": {},
   "outputs": [],
   "source": [
    "optimizer = ADAM()\n",
    "try\n",
    "    while true\n",
    "        i += 1\n",
    "        wind_speed, target = random_target()\n",
    "        ∇θ = gradient(θ) do\n",
    "            hit = shoot_model(wind_speed=wind_speed, target=target)\n",
    "            loss = (hit - target)^2\n",
    "            Zygote.ignore() do\n",
    "                if i % 100 == 0\n",
    "                    push!(losses, loss)\n",
    "                    push!(iterations, i)\n",
    "                    plot(iterations, losses, show = :inline, yscale = :log10,\n",
    "                        label = \"square-loss\", xlabel = \"#iteration\", ylabel=\"loss (log10 scale)\")\n",
    "                end\n",
    "            end\n",
    "            loss\n",
    "        end\n",
    "        Flux.update!(optimizer, θ, ∇θ)\n",
    "    end\n",
    "    \n",
    "catch e\n",
    "    if e isa InterruptException\n",
    "        visualize_model(;random_target()...)\n",
    "    end\n",
    "end "
   ]
  },
  {
   "cell_type": "markdown",
   "metadata": {},
   "source": [
    "----------\n",
    "\n",
    "# Thank you for participating\n",
    "\n",
    "In case of any questions feel free to reach me at s.sahm@reply.de\n",
    "\n",
    "If you are curious for more or want to do a Julia project, just tell me. I am always glad about new enthusiasts."
   ]
  },
  {
   "cell_type": "markdown",
   "metadata": {},
   "source": [
    "<img src=\"https://julialang.org/assets/infra/logo.svg\" alt=\"JuliaLogo\" width=\"30%\" align=\"right\"/>"
   ]
  },
  {
   "cell_type": "markdown",
   "metadata": {},
   "source": [
    "<img src=\"https://3gp10c1vpy442j63me73gy3s-wpengine.netdna-ssl.com/wp-content/uploads/2020/01/Machine-Learning-Reply-LOGO-150dpi-600x149.jpg\" alt=\"MachineLearningReply\" width=\"30%\" align=\"right\"/>"
   ]
  }
 ],
 "metadata": {
  "@webio": {
   "lastCommId": "1aa40e49fcaa49689808b90b445beec6",
   "lastKernelId": "5923c265-f7b0-414f-8b71-fb61a8840195"
  },
  "kernelspec": {
   "display_name": "julia 1.5.1",
   "language": "julia",
   "name": "julia-1.5"
  },
  "language_info": {
   "file_extension": ".jl",
   "mimetype": "application/julia",
   "name": "julia",
   "version": "1.5.1"
  }
 },
 "nbformat": 4,
 "nbformat_minor": 4
}
